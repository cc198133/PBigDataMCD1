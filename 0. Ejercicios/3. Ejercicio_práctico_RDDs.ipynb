{
 "cells": [
  {
   "cell_type": "markdown",
   "id": "22bc4d93",
   "metadata": {},
   "source": [
    "# Estos ejercicios nos sirven para según Spark, se define como una colección de elementos que es tolerante a fallos y que es capaz de operar en paralelo\n",
    "\n",
    "\n",
    "# Ejercicio Práctico RDDs"
   ]
  },
  {
   "cell_type": "code",
   "execution_count": 7,
   "id": "c1a214d6",
   "metadata": {},
   "outputs": [],
   "source": [
    "import findspark\n",
    "findspark.init()\n",
    "\n",
    "import pandas as pd\n",
    "import pyspark\n",
    "from pyspark.sql import SparkSession"
   ]
  },
  {
   "cell_type": "code",
   "execution_count": 9,
   "id": "bd8b0d7c",
   "metadata": {},
   "outputs": [],
   "source": [
    "spark = SparkSession.builder.getOrCreate()\n",
    "sc = spark.sparkContext"
   ]
  },
  {
   "cell_type": "code",
   "execution_count": 1,
   "id": "1479e36b",
   "metadata": {},
   "outputs": [],
   "source": [
    "## Genera un RDD (newRDD) con la siguiente lista [1, 2, 3, 4, 5]"
   ]
  },
  {
   "cell_type": "code",
   "execution_count": 7,
   "id": "9bc25ae9",
   "metadata": {},
   "outputs": [],
   "source": [
    "## Multiplica por 2 todos los elementos del RDD anterior"
   ]
  },
  {
   "cell_type": "code",
   "execution_count": 10,
   "id": "a047081a",
   "metadata": {},
   "outputs": [],
   "source": [
    "data= [1, 2, 3, 4, 5, 6]\n",
    "\n",
    "myRDD= sc.parallelize(data)\n",
    "\n",
    "## Filtra el RDD anterior por los elementos pares"
   ]
  },
  {
   "cell_type": "code",
   "execution_count": 11,
   "id": "aeb368f0",
   "metadata": {},
   "outputs": [],
   "source": [
    "## Muestra los elementos unicos del RDD"
   ]
  },
  {
   "cell_type": "code",
   "execution_count": 11,
   "id": "787c7986",
   "metadata": {},
   "outputs": [],
   "source": [
    "from operator import add\n",
    "\n",
    "myRDD = sc.parallelize([('a', 1), ('a', 2), ('a', 3), ('b', 1)])\n",
    "\n",
    "## Obten la suma de los valores agrupados por el key"
   ]
  },
  {
   "cell_type": "code",
   "execution_count": 12,
   "id": "5133d6f2",
   "metadata": {},
   "outputs": [],
   "source": [
    "## Ordena los RDDs en base al key"
   ]
  },
  {
   "cell_type": "code",
   "execution_count": 13,
   "id": "bfe2d705",
   "metadata": {},
   "outputs": [],
   "source": [
    "data= [1, 2, 3, 4, 5]\n",
    "\n",
    "myRDD= sc.parallelize(data)\n",
    "## Toma los elementos del RDD para multiplicarlos entre si y obtener un resultado"
   ]
  },
  {
   "cell_type": "code",
   "execution_count": 14,
   "id": "b6139be0",
   "metadata": {},
   "outputs": [],
   "source": [
    "data= ['Python', 'Scala', 'Python', 'R', 'Python', 'Java', 'R' ]\n",
    "\n",
    "myRDD= sc.parallelize(data)\n",
    "\n",
    "## Cuenta cuantas veces aparece cada valor"
   ]
  },
  {
   "cell_type": "code",
   "execution_count": 16,
   "id": "633f7716",
   "metadata": {},
   "outputs": [],
   "source": [
    "data= [('a', 1), ('b', 1), ('c', 1), ('a', 1)]\n",
    "myRDD = sc.parallelize(data)\n",
    "\n",
    "## Cuenta cuantas veces aparece cada una de las keys"
   ]
  },
  {
   "cell_type": "code",
   "execution_count": null,
   "id": "f0cea10a",
   "metadata": {},
   "outputs": [],
   "source": []
  }
 ],
 "metadata": {
  "kernelspec": {
   "display_name": "Python 3 (ipykernel)",
   "language": "python",
   "name": "python3"
  },
  "language_info": {
   "codemirror_mode": {
    "name": "ipython",
    "version": 3
   },
   "file_extension": ".py",
   "mimetype": "text/x-python",
   "name": "python",
   "nbconvert_exporter": "python",
   "pygments_lexer": "ipython3",
   "version": "3.8.12"
  }
 },
 "nbformat": 4,
 "nbformat_minor": 5
}
